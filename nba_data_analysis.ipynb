{
 "cells": [
  {
   "cell_type": "code",
   "execution_count": 252,
   "metadata": {},
   "outputs": [],
   "source": [
    "import pandas as pd\n",
    "import numpy as np"
   ]
  },
  {
   "cell_type": "code",
   "execution_count": 253,
   "metadata": {},
   "outputs": [
    {
     "name": "stderr",
     "output_type": "stream",
     "text": [
      "C:\\Users\\Sema\\AppData\\Local\\Temp\\ipykernel_15156\\3603830858.py:1: DtypeWarning: Columns (6) have mixed types. Specify dtype option on import or set low_memory=False.\n",
      "  df_game_details = pd.read_csv(\"games_details.csv\")\n"
     ]
    }
   ],
   "source": [
    "df_game_details = pd.read_csv(\"games_details.csv\")\n",
    "df_games = pd.read_csv(\"games.csv\")\n",
    "df_players = pd.read_csv(\"players.csv\")\n",
    "df_ranking = pd.read_csv(\"ranking.csv\")\n",
    "df_teams = pd.read_csv(\"teams.csv\")"
   ]
  },
  {
   "cell_type": "code",
   "execution_count": 254,
   "metadata": {},
   "outputs": [
    {
     "name": "stdout",
     "output_type": "stream",
     "text": [
      "Game Details veri listesinde 29  adet sütun, 645953 adet satır vardır\n",
      "Games veri listesinde 21  adet sütun, 25796 adet satır vardır\n",
      "Players veri listesinde 4  adet sütun, 7228 adet satır vardır\n",
      "Ranking veri listesinde 13  adet sütun, 201792 adet satır vardır\n",
      "Teams veri listesinde 14  adet sütun, 30 adet satır vardır\n"
     ]
    }
   ],
   "source": [
    "\n",
    "print(\"Game Details veri listesinde\",len(df_game_details.columns),\" adet sütun,\", len(df_game_details),\"adet satır vardır\")\n",
    "print(\"Games veri listesinde\",len(df_games.columns),\" adet sütun,\", len(df_games),\"adet satır vardır\")\n",
    "print(\"Players veri listesinde\",len(df_players.columns),\" adet sütun,\", len(df_players),\"adet satır vardır\")\n",
    "print(\"Ranking veri listesinde\",len(df_ranking.columns),\" adet sütun,\", len(df_ranking),\"adet satır vardır\")\n",
    "print(\"Teams veri listesinde\",len(df_teams.columns),\" adet sütun,\", len(df_teams),\"adet satır vardır\")\n"
   ]
  },
  {
   "cell_type": "code",
   "execution_count": 255,
   "metadata": {},
   "outputs": [
    {
     "name": "stdout",
     "output_type": "stream",
     "text": [
      "<class 'pandas.core.frame.DataFrame'>\n",
      "RangeIndex: 645953 entries, 0 to 645952\n",
      "Data columns (total 29 columns):\n",
      " #   Column             Non-Null Count   Dtype  \n",
      "---  ------             --------------   -----  \n",
      " 0   GAME_ID            645953 non-null  int64  \n",
      " 1   TEAM_ID            645953 non-null  int64  \n",
      " 2   TEAM_ABBREVIATION  645953 non-null  object \n",
      " 3   TEAM_CITY          645953 non-null  object \n",
      " 4   PLAYER_ID          645953 non-null  int64  \n",
      " 5   PLAYER_NAME        645953 non-null  object \n",
      " 6   NICKNAME           30362 non-null   object \n",
      " 7   START_POSITION     247215 non-null  object \n",
      " 8   COMMENT            105602 non-null  object \n",
      " 9   MIN                540350 non-null  object \n",
      " 10  FGM                540350 non-null  float64\n",
      " 11  FGA                540350 non-null  float64\n",
      " 12  FG_PCT             540350 non-null  float64\n",
      " 13  FG3M               540350 non-null  float64\n",
      " 14  FG3A               540350 non-null  float64\n",
      " 15  FG3_PCT            540350 non-null  float64\n",
      " 16  FTM                540350 non-null  float64\n",
      " 17  FTA                540350 non-null  float64\n",
      " 18  FT_PCT             540350 non-null  float64\n",
      " 19  OREB               540350 non-null  float64\n",
      " 20  DREB               540350 non-null  float64\n",
      " 21  REB                540350 non-null  float64\n",
      " 22  AST                540350 non-null  float64\n",
      " 23  STL                540350 non-null  float64\n",
      " 24  BLK                540350 non-null  float64\n",
      " 25  TO                 540350 non-null  float64\n",
      " 26  PF                 540350 non-null  float64\n",
      " 27  PTS                540350 non-null  float64\n",
      " 28  PLUS_MINUS         516689 non-null  float64\n",
      "dtypes: float64(19), int64(3), object(7)\n",
      "memory usage: 142.9+ MB\n"
     ]
    }
   ],
   "source": [
    "df_game_details.info() #Yöntemi, satır ve sütun sayısı, toplam bellek kullanımı, her sütunun veri türü ve NaN olmayan öğelerin sayısı gibi bilgileri görüntüleyebilir"
   ]
  },
  {
   "cell_type": "code",
   "execution_count": 11,
   "metadata": {},
   "outputs": [
    {
     "name": "stdout",
     "output_type": "stream",
     "text": [
      "<class 'pandas.core.frame.DataFrame'>\n",
      "RangeIndex: 25796 entries, 0 to 25795\n",
      "Data columns (total 21 columns):\n",
      " #   Column            Non-Null Count  Dtype  \n",
      "---  ------            --------------  -----  \n",
      " 0   GAME_DATE_EST     25796 non-null  object \n",
      " 1   GAME_ID           25796 non-null  int64  \n",
      " 2   GAME_STATUS_TEXT  25796 non-null  object \n",
      " 3   HOME_TEAM_ID      25796 non-null  int64  \n",
      " 4   VISITOR_TEAM_ID   25796 non-null  int64  \n",
      " 5   SEASON            25796 non-null  int64  \n",
      " 6   TEAM_ID_home      25796 non-null  int64  \n",
      " 7   PTS_home          25697 non-null  float64\n",
      " 8   FG_PCT_home       25697 non-null  float64\n",
      " 9   FT_PCT_home       25697 non-null  float64\n",
      " 10  FG3_PCT_home      25697 non-null  float64\n",
      " 11  AST_home          25697 non-null  float64\n",
      " 12  REB_home          25697 non-null  float64\n",
      " 13  TEAM_ID_away      25796 non-null  int64  \n",
      " 14  PTS_away          25697 non-null  float64\n",
      " 15  FG_PCT_away       25697 non-null  float64\n",
      " 16  FT_PCT_away       25697 non-null  float64\n",
      " 17  FG3_PCT_away      25697 non-null  float64\n",
      " 18  AST_away          25697 non-null  float64\n",
      " 19  REB_away          25697 non-null  float64\n",
      " 20  HOME_TEAM_WINS    25796 non-null  int64  \n",
      "dtypes: float64(12), int64(7), object(2)\n",
      "memory usage: 4.1+ MB\n"
     ]
    }
   ],
   "source": [
    "df_games.info()"
   ]
  },
  {
   "cell_type": "code",
   "execution_count": 14,
   "metadata": {},
   "outputs": [
    {
     "name": "stdout",
     "output_type": "stream",
     "text": [
      "<class 'pandas.core.frame.DataFrame'>\n",
      "RangeIndex: 7228 entries, 0 to 7227\n",
      "Data columns (total 4 columns):\n",
      " #   Column       Non-Null Count  Dtype \n",
      "---  ------       --------------  ----- \n",
      " 0   PLAYER_NAME  7228 non-null   object\n",
      " 1   TEAM_ID      7228 non-null   int64 \n",
      " 2   PLAYER_ID    7228 non-null   int64 \n",
      " 3   SEASON       7228 non-null   int64 \n",
      "dtypes: int64(3), object(1)\n",
      "memory usage: 226.0+ KB\n"
     ]
    }
   ],
   "source": [
    "df_players.info()"
   ]
  },
  {
   "cell_type": "code",
   "execution_count": 203,
   "metadata": {},
   "outputs": [
    {
     "name": "stdout",
     "output_type": "stream",
     "text": [
      "<class 'pandas.core.frame.DataFrame'>\n",
      "RangeIndex: 201792 entries, 0 to 201791\n",
      "Data columns (total 13 columns):\n",
      " #   Column         Non-Null Count   Dtype  \n",
      "---  ------         --------------   -----  \n",
      " 0   TEAM_ID        201792 non-null  int64  \n",
      " 1   LEAGUE_ID      201792 non-null  int64  \n",
      " 2   SEASON_ID      201792 non-null  int64  \n",
      " 3   STANDINGSDATE  201792 non-null  object \n",
      " 4   CONFERENCE     201792 non-null  object \n",
      " 5   TEAM           201792 non-null  object \n",
      " 6   G              201792 non-null  int64  \n",
      " 7   W              201792 non-null  int64  \n",
      " 8   L              201792 non-null  int64  \n",
      " 9   W_PCT          201792 non-null  float64\n",
      " 10  HOME_RECORD    201792 non-null  object \n",
      " 11  ROAD_RECORD    201792 non-null  object \n",
      " 12  RETURNTOPLAY   3990 non-null    float64\n",
      "dtypes: float64(2), int64(6), object(5)\n",
      "memory usage: 20.0+ MB\n"
     ]
    }
   ],
   "source": [
    "df_ranking.info()"
   ]
  },
  {
   "cell_type": "code",
   "execution_count": 202,
   "metadata": {},
   "outputs": [
    {
     "name": "stdout",
     "output_type": "stream",
     "text": [
      "<class 'pandas.core.frame.DataFrame'>\n",
      "RangeIndex: 30 entries, 0 to 29\n",
      "Data columns (total 14 columns):\n",
      " #   Column              Non-Null Count  Dtype  \n",
      "---  ------              --------------  -----  \n",
      " 0   LEAGUE_ID           30 non-null     int64  \n",
      " 1   TEAM_ID             30 non-null     int64  \n",
      " 2   MIN_YEAR            30 non-null     int64  \n",
      " 3   MAX_YEAR            30 non-null     int64  \n",
      " 4   ABBREVIATION        30 non-null     object \n",
      " 5   NICKNAME            30 non-null     object \n",
      " 6   YEARFOUNDED         30 non-null     int64  \n",
      " 7   CITY                30 non-null     object \n",
      " 8   ARENA               30 non-null     object \n",
      " 9   ARENACAPACITY       26 non-null     float64\n",
      " 10  OWNER               30 non-null     object \n",
      " 11  GENERALMANAGER      30 non-null     object \n",
      " 12  HEADCOACH           30 non-null     object \n",
      " 13  DLEAGUEAFFILIATION  30 non-null     object \n",
      "dtypes: float64(1), int64(5), object(8)\n",
      "memory usage: 3.4+ KB\n"
     ]
    }
   ],
   "source": [
    "df_teams.info()"
   ]
  },
  {
   "cell_type": "code",
   "execution_count": 2,
   "metadata": {},
   "outputs": [
    {
     "ename": "NameError",
     "evalue": "name 'df_games' is not defined",
     "output_type": "error",
     "traceback": [
      "\u001b[1;31m---------------------------------------------------------------------------\u001b[0m",
      "\u001b[1;31mNameError\u001b[0m                                 Traceback (most recent call last)",
      "\u001b[1;32mc:\\Users\\Sema\\Desktop\\Dataset\\veri_analiz.ipynb Hücre 9\u001b[0m in \u001b[0;36m<cell line: 1>\u001b[1;34m()\u001b[0m\n\u001b[1;32m----> <a href='vscode-notebook-cell:/c%3A/Users/Sema/Desktop/Dataset/veri_analiz.ipynb#ch0000008?line=0'>1</a>\u001b[0m deplasman \u001b[39m=\u001b[39m df_games[[\u001b[39m'\u001b[39m\u001b[39mOYUN_ID\u001b[39m\u001b[39m'\u001b[39m,\u001b[39m'\u001b[39m\u001b[39mEV_SAHIBI_TAKIM_ID\u001b[39m\u001b[39m'\u001b[39m, \u001b[39m'\u001b[39m\u001b[39mEV_SAHIBI_TAKIMIN_PUANY\u001b[39m\u001b[39m'\u001b[39m,\u001b[39m'\u001b[39m\u001b[39mMISAFIR_TAKIM_ID\u001b[39m\u001b[39m'\u001b[39m, \u001b[39m'\u001b[39m\u001b[39mDEPLASMAN_TAKIM_PUAN\u001b[39m\u001b[39m'\u001b[39m]]\n\u001b[0;32m      <a href='vscode-notebook-cell:/c%3A/Users/Sema/Desktop/Dataset/veri_analiz.ipynb#ch0000008?line=1'>2</a>\u001b[0m deplasman\n",
      "\u001b[1;31mNameError\u001b[0m: name 'df_games' is not defined"
     ]
    }
   ],
   "source": [
    "deplasman = df_games[['OYUN_ID','EV_SAHIBI_TAKIM_ID', 'EV_SAHIBI_TAKIMIN_PUANY','MISAFIR_TAKIM_ID', 'DEPLASMAN_TAKIM_PUAN']]\n",
    "deplasman\n",
    "\n"
   ]
  },
  {
   "cell_type": "code",
   "execution_count": 3,
   "metadata": {},
   "outputs": [
    {
     "ename": "NameError",
     "evalue": "name 'df_games' is not defined",
     "output_type": "error",
     "traceback": [
      "\u001b[1;31m---------------------------------------------------------------------------\u001b[0m",
      "\u001b[1;31mNameError\u001b[0m                                 Traceback (most recent call last)",
      "\u001b[1;32mc:\\Users\\Sema\\Desktop\\Dataset\\veri_analiz.ipynb Hücre 10\u001b[0m in \u001b[0;36m<cell line: 1>\u001b[1;34m()\u001b[0m\n\u001b[1;32m----> <a href='vscode-notebook-cell:/c%3A/Users/Sema/Desktop/Dataset/veri_analiz.ipynb#ch0000009?line=0'>1</a>\u001b[0m deplasman2 \u001b[39m=\u001b[39m df_games[[\u001b[39m'\u001b[39m\u001b[39mEV_SAHIBI_TAKIMIN_PUANY\u001b[39m\u001b[39m'\u001b[39m,\u001b[39m'\u001b[39m\u001b[39mDEPLASMAN_TAKIM_PUAN\u001b[39m\u001b[39m'\u001b[39m]]\n\u001b[0;32m      <a href='vscode-notebook-cell:/c%3A/Users/Sema/Desktop/Dataset/veri_analiz.ipynb#ch0000009?line=1'>2</a>\u001b[0m deplasman2\n",
      "\u001b[1;31mNameError\u001b[0m: name 'df_games' is not defined"
     ]
    }
   ],
   "source": [
    "deplasman2 = df_games[['EV_SAHIBI_TAKIMIN_PUANY','DEPLASMAN_TAKIM_PUAN']]\n",
    "deplasman2"
   ]
  },
  {
   "cell_type": "code",
   "execution_count": 205,
   "metadata": {},
   "outputs": [
    {
     "data": {
      "text/plain": [
       "Index(['GAME_ID', 'TEAM_ID', 'TEAM_ABBREVIATION', 'TEAM_CITY', 'PLAYER_ID',\n",
       "       'PLAYER_NAME', 'NICKNAME', 'START_POSITION', 'COMMENT', 'MIN', 'FGM',\n",
       "       'FGA', 'FG_PCT', 'FG3M', 'FG3A', 'FG3_PCT', 'FTM', 'FTA', 'FT_PCT',\n",
       "       'OREB', 'DREB', 'REB', 'AST', 'STL', 'BLK', 'TO', 'PF', 'PTS',\n",
       "       'PLUS_MINUS'],\n",
       "      dtype='object')"
      ]
     },
     "execution_count": 205,
     "metadata": {},
     "output_type": "execute_result"
    }
   ],
   "source": [
    "df_game_details.columns"
   ]
  },
  {
   "cell_type": "code",
   "execution_count": 257,
   "metadata": {},
   "outputs": [
    {
     "data": {
      "text/plain": [
       "Index(['OYUN_ID', 'TAKIM_ID', 'TAKIM_KISALTMA', 'TAKIM_SEHİR', 'OYUNCU_ID',\n",
       "       'OYUNCU_ISIM', 'TAKMA_ISIM', 'BASLANGIC_KONUMU', 'OYNANAN_DAKIKA',\n",
       "       'MACIN_OYNANMA_DK', 'SAHA_GOLLERIN_SAYISI', 'DENENEN_SAHA_GOLLERİ',\n",
       "       'ŞUT_YÜZDESİ', '3LÜK_DENEMESİ', '3LÜK_YÜZDESİ', 'SERBEST_ATIŞ_SAYISI',\n",
       "       'SERBEST_ATIŞ_DENEMESİ', 'SERBEST_ATIŞ_YÜZDESİ', 'HÜCUM_PERF',\n",
       "       'HUCUM_RIBAUND_YUZDESİ', 'DEFANSİF_RIBAUND', 'RIBAUND_YUZDESI',\n",
       "       'DESTEK_YUZDESİ', 'TOP_CALMA', 'BLOK_Y', 'KISISEL_FAUL',\n",
       "       'OYUNCUNUN_ATTIĞI_PUAN', 'ATILAN_PUAN_YUZDESİ', 'PUAN_FARKI'],\n",
       "      dtype='object')"
      ]
     },
     "execution_count": 257,
     "metadata": {},
     "output_type": "execute_result"
    }
   ],
   "source": [
    "df_game_details.columns=[\"OYUN_ID\",\"TAKIM_ID\",\"TAKIM_KISALTMA\",\"TAKIM_SEHİR\",\"OYUNCU_ID\",\"OYUNCU_ISIM\",\"TAKMA_ISIM\",\"BASLANGIC_KONUMU\",\"OYNANAN_DAKIKA\",'MACIN_OYNANMA_DK', 'SAHA_GOLLERIN_SAYISI',\n",
    "       'DENENEN_SAHA_GOLLERİ', 'ŞUT_YÜZDESİ', '3LÜK_DENEMESİ', '3LÜK_YÜZDESİ', 'SERBEST_ATIŞ_SAYISI', 'SERBEST_ATIŞ_DENEMESİ', 'SERBEST_ATIŞ_YÜZDESİ', 'HÜCUM_PERF',\n",
    "       'HUCUM_RIBAUND_YUZDESİ', 'DEFANSİF_RIBAUND', 'RIBAUND_YUZDESI', 'DESTEK_YUZDESİ', 'TOP_CALMA', 'BLOK_Y', 'KISISEL_FAUL', 'OYUNCUNUN_ATTIĞI_PUAN', 'ATILAN_PUAN_YUZDESİ',\n",
    "       'PUAN_FARKI']\n",
    "df_game_details.columns\n"
   ]
  },
  {
   "cell_type": "code",
   "execution_count": 207,
   "metadata": {},
   "outputs": [
    {
     "data": {
      "text/plain": [
       "Index(['GAME_DATE_EST', 'GAME_ID', 'GAME_STATUS_TEXT', 'HOME_TEAM_ID',\n",
       "       'VISITOR_TEAM_ID', 'SEASON', 'TEAM_ID_home', 'PTS_home', 'FG_PCT_home',\n",
       "       'FT_PCT_home', 'FG3_PCT_home', 'AST_home', 'REB_home', 'TEAM_ID_away',\n",
       "       'PTS_away', 'FG_PCT_away', 'FT_PCT_away', 'FG3_PCT_away', 'AST_away',\n",
       "       'REB_away', 'HOME_TEAM_WINS'],\n",
       "      dtype='object')"
      ]
     },
     "execution_count": 207,
     "metadata": {},
     "output_type": "execute_result"
    }
   ],
   "source": [
    "df_games.columns"
   ]
  },
  {
   "cell_type": "code",
   "execution_count": 208,
   "metadata": {},
   "outputs": [
    {
     "data": {
      "text/plain": [
       "21"
      ]
     },
     "execution_count": 208,
     "metadata": {},
     "output_type": "execute_result"
    }
   ],
   "source": [
    "len(df_games.columns)"
   ]
  },
  {
   "cell_type": "code",
   "execution_count": 259,
   "metadata": {},
   "outputs": [
    {
     "data": {
      "text/html": [
       "<div>\n",
       "<style scoped>\n",
       "    .dataframe tbody tr th:only-of-type {\n",
       "        vertical-align: middle;\n",
       "    }\n",
       "\n",
       "    .dataframe tbody tr th {\n",
       "        vertical-align: top;\n",
       "    }\n",
       "\n",
       "    .dataframe thead th {\n",
       "        text-align: right;\n",
       "    }\n",
       "</style>\n",
       "<table border=\"1\" class=\"dataframe\">\n",
       "  <thead>\n",
       "    <tr style=\"text-align: right;\">\n",
       "      <th></th>\n",
       "      <th>GAME_DATE_EST</th>\n",
       "      <th>GAME_ID</th>\n",
       "      <th>GAME_STATUS_TEXT</th>\n",
       "      <th>HOME_TEAM_ID</th>\n",
       "      <th>VISITOR_TEAM_ID</th>\n",
       "      <th>SEASON</th>\n",
       "      <th>PTS_home</th>\n",
       "      <th>FG_PCT_home</th>\n",
       "      <th>FT_PCT_home</th>\n",
       "      <th>FG3_PCT_home</th>\n",
       "      <th>AST_home</th>\n",
       "      <th>REB_home</th>\n",
       "      <th>PTS_away</th>\n",
       "      <th>FG_PCT_away</th>\n",
       "      <th>FT_PCT_away</th>\n",
       "      <th>FG3_PCT_away</th>\n",
       "      <th>AST_away</th>\n",
       "      <th>REB_away</th>\n",
       "      <th>HOME_TEAM_WINS</th>\n",
       "    </tr>\n",
       "  </thead>\n",
       "  <tbody>\n",
       "    <tr>\n",
       "      <th>0</th>\n",
       "      <td>2022-03-12</td>\n",
       "      <td>22101005</td>\n",
       "      <td>Final</td>\n",
       "      <td>1610612748</td>\n",
       "      <td>1610612750</td>\n",
       "      <td>2021</td>\n",
       "      <td>104.0</td>\n",
       "      <td>0.398</td>\n",
       "      <td>0.76</td>\n",
       "      <td>0.333</td>\n",
       "      <td>23.0</td>\n",
       "      <td>53.0</td>\n",
       "      <td>113.0</td>\n",
       "      <td>0.422</td>\n",
       "      <td>0.875</td>\n",
       "      <td>0.357</td>\n",
       "      <td>21.0</td>\n",
       "      <td>46.0</td>\n",
       "      <td>0</td>\n",
       "    </tr>\n",
       "    <tr>\n",
       "      <th>1</th>\n",
       "      <td>2022-03-12</td>\n",
       "      <td>22101006</td>\n",
       "      <td>Final</td>\n",
       "      <td>1610612741</td>\n",
       "      <td>1610612739</td>\n",
       "      <td>2021</td>\n",
       "      <td>101.0</td>\n",
       "      <td>0.443</td>\n",
       "      <td>0.933</td>\n",
       "      <td>0.429</td>\n",
       "      <td>20.0</td>\n",
       "      <td>46.0</td>\n",
       "      <td>91.0</td>\n",
       "      <td>0.419</td>\n",
       "      <td>0.824</td>\n",
       "      <td>0.208</td>\n",
       "      <td>19.0</td>\n",
       "      <td>40.0</td>\n",
       "      <td>1</td>\n",
       "    </tr>\n",
       "    <tr>\n",
       "      <th>2</th>\n",
       "      <td>2022-03-12</td>\n",
       "      <td>22101007</td>\n",
       "      <td>Final</td>\n",
       "      <td>1610612759</td>\n",
       "      <td>1610612754</td>\n",
       "      <td>2021</td>\n",
       "      <td>108.0</td>\n",
       "      <td>0.412</td>\n",
       "      <td>0.813</td>\n",
       "      <td>0.324</td>\n",
       "      <td>28.0</td>\n",
       "      <td>52.0</td>\n",
       "      <td>119.0</td>\n",
       "      <td>0.489</td>\n",
       "      <td>1.0</td>\n",
       "      <td>0.389</td>\n",
       "      <td>23.0</td>\n",
       "      <td>47.0</td>\n",
       "      <td>0</td>\n",
       "    </tr>\n",
       "    <tr>\n",
       "      <th>3</th>\n",
       "      <td>2022-03-12</td>\n",
       "      <td>22101008</td>\n",
       "      <td>Final</td>\n",
       "      <td>1610612744</td>\n",
       "      <td>1610612749</td>\n",
       "      <td>2021</td>\n",
       "      <td>122.0</td>\n",
       "      <td>0.484</td>\n",
       "      <td>0.933</td>\n",
       "      <td>0.4</td>\n",
       "      <td>33.0</td>\n",
       "      <td>55.0</td>\n",
       "      <td>109.0</td>\n",
       "      <td>0.413</td>\n",
       "      <td>0.696</td>\n",
       "      <td>0.386</td>\n",
       "      <td>27.0</td>\n",
       "      <td>39.0</td>\n",
       "      <td>1</td>\n",
       "    </tr>\n",
       "    <tr>\n",
       "      <th>4</th>\n",
       "      <td>2022-03-12</td>\n",
       "      <td>22101009</td>\n",
       "      <td>Final</td>\n",
       "      <td>1610612743</td>\n",
       "      <td>1610612761</td>\n",
       "      <td>2021</td>\n",
       "      <td>115.0</td>\n",
       "      <td>0.551</td>\n",
       "      <td>0.75</td>\n",
       "      <td>0.407</td>\n",
       "      <td>32.0</td>\n",
       "      <td>39.0</td>\n",
       "      <td>127.0</td>\n",
       "      <td>0.471</td>\n",
       "      <td>0.76</td>\n",
       "      <td>0.387</td>\n",
       "      <td>28.0</td>\n",
       "      <td>50.0</td>\n",
       "      <td>0</td>\n",
       "    </tr>\n",
       "    <tr>\n",
       "      <th>...</th>\n",
       "      <td>...</td>\n",
       "      <td>...</td>\n",
       "      <td>...</td>\n",
       "      <td>...</td>\n",
       "      <td>...</td>\n",
       "      <td>...</td>\n",
       "      <td>...</td>\n",
       "      <td>...</td>\n",
       "      <td>...</td>\n",
       "      <td>...</td>\n",
       "      <td>...</td>\n",
       "      <td>...</td>\n",
       "      <td>...</td>\n",
       "      <td>...</td>\n",
       "      <td>...</td>\n",
       "      <td>...</td>\n",
       "      <td>...</td>\n",
       "      <td>...</td>\n",
       "      <td>...</td>\n",
       "    </tr>\n",
       "    <tr>\n",
       "      <th>25791</th>\n",
       "      <td>2014-10-06</td>\n",
       "      <td>11400007</td>\n",
       "      <td>Final</td>\n",
       "      <td>1610612737</td>\n",
       "      <td>1610612740</td>\n",
       "      <td>2014</td>\n",
       "      <td>93.0</td>\n",
       "      <td>0.419</td>\n",
       "      <td>0.821</td>\n",
       "      <td>0.421</td>\n",
       "      <td>24.0</td>\n",
       "      <td>50.0</td>\n",
       "      <td>87.0</td>\n",
       "      <td>0.366</td>\n",
       "      <td>0.643</td>\n",
       "      <td>0.375</td>\n",
       "      <td>17.0</td>\n",
       "      <td>43.0</td>\n",
       "      <td>1</td>\n",
       "    </tr>\n",
       "    <tr>\n",
       "      <th>25792</th>\n",
       "      <td>2014-10-06</td>\n",
       "      <td>11400004</td>\n",
       "      <td>Final</td>\n",
       "      <td>1610612741</td>\n",
       "      <td>1610612764</td>\n",
       "      <td>2014</td>\n",
       "      <td>81.0</td>\n",
       "      <td>0.338</td>\n",
       "      <td>0.719</td>\n",
       "      <td>0.381</td>\n",
       "      <td>18.0</td>\n",
       "      <td>40.0</td>\n",
       "      <td>85.0</td>\n",
       "      <td>0.411</td>\n",
       "      <td>0.636</td>\n",
       "      <td>0.267</td>\n",
       "      <td>17.0</td>\n",
       "      <td>47.0</td>\n",
       "      <td>0</td>\n",
       "    </tr>\n",
       "    <tr>\n",
       "      <th>25793</th>\n",
       "      <td>2014-10-06</td>\n",
       "      <td>11400005</td>\n",
       "      <td>Final</td>\n",
       "      <td>1610612747</td>\n",
       "      <td>1610612743</td>\n",
       "      <td>2014</td>\n",
       "      <td>98.0</td>\n",
       "      <td>0.448</td>\n",
       "      <td>0.682</td>\n",
       "      <td>0.5</td>\n",
       "      <td>29.0</td>\n",
       "      <td>45.0</td>\n",
       "      <td>95.0</td>\n",
       "      <td>0.387</td>\n",
       "      <td>0.659</td>\n",
       "      <td>0.5</td>\n",
       "      <td>19.0</td>\n",
       "      <td>43.0</td>\n",
       "      <td>1</td>\n",
       "    </tr>\n",
       "    <tr>\n",
       "      <th>25794</th>\n",
       "      <td>2014-10-05</td>\n",
       "      <td>11400002</td>\n",
       "      <td>Final</td>\n",
       "      <td>1610612761</td>\n",
       "      <td>1610612758</td>\n",
       "      <td>2014</td>\n",
       "      <td>99.0</td>\n",
       "      <td>0.44</td>\n",
       "      <td>0.771</td>\n",
       "      <td>0.333</td>\n",
       "      <td>21.0</td>\n",
       "      <td>30.0</td>\n",
       "      <td>94.0</td>\n",
       "      <td>0.469</td>\n",
       "      <td>0.725</td>\n",
       "      <td>0.385</td>\n",
       "      <td>18.0</td>\n",
       "      <td>45.0</td>\n",
       "      <td>1</td>\n",
       "    </tr>\n",
       "    <tr>\n",
       "      <th>25795</th>\n",
       "      <td>2014-10-04</td>\n",
       "      <td>11400001</td>\n",
       "      <td>Final</td>\n",
       "      <td>1610612748</td>\n",
       "      <td>1610612740</td>\n",
       "      <td>2014</td>\n",
       "      <td>86.0</td>\n",
       "      <td>0.431</td>\n",
       "      <td>0.679</td>\n",
       "      <td>0.333</td>\n",
       "      <td>18.0</td>\n",
       "      <td>42.0</td>\n",
       "      <td>98.0</td>\n",
       "      <td>0.462</td>\n",
       "      <td>0.706</td>\n",
       "      <td>0.438</td>\n",
       "      <td>19.0</td>\n",
       "      <td>42.0</td>\n",
       "      <td>0</td>\n",
       "    </tr>\n",
       "  </tbody>\n",
       "</table>\n",
       "<p>25796 rows × 19 columns</p>\n",
       "</div>"
      ],
      "text/plain": [
       "      GAME_DATE_EST   GAME_ID GAME_STATUS_TEXT HOME_TEAM_ID VISITOR_TEAM_ID  \\\n",
       "0        2022-03-12  22101005            Final   1610612748      1610612750   \n",
       "1        2022-03-12  22101006            Final   1610612741      1610612739   \n",
       "2        2022-03-12  22101007            Final   1610612759      1610612754   \n",
       "3        2022-03-12  22101008            Final   1610612744      1610612749   \n",
       "4        2022-03-12  22101009            Final   1610612743      1610612761   \n",
       "...             ...       ...              ...          ...             ...   \n",
       "25791    2014-10-06  11400007            Final   1610612737      1610612740   \n",
       "25792    2014-10-06  11400004            Final   1610612741      1610612764   \n",
       "25793    2014-10-06  11400005            Final   1610612747      1610612743   \n",
       "25794    2014-10-05  11400002            Final   1610612761      1610612758   \n",
       "25795    2014-10-04  11400001            Final   1610612748      1610612740   \n",
       "\n",
       "      SEASON PTS_home FG_PCT_home FT_PCT_home FG3_PCT_home AST_home REB_home  \\\n",
       "0       2021    104.0       0.398        0.76        0.333     23.0     53.0   \n",
       "1       2021    101.0       0.443       0.933        0.429     20.0     46.0   \n",
       "2       2021    108.0       0.412       0.813        0.324     28.0     52.0   \n",
       "3       2021    122.0       0.484       0.933          0.4     33.0     55.0   \n",
       "4       2021    115.0       0.551        0.75        0.407     32.0     39.0   \n",
       "...      ...      ...         ...         ...          ...      ...      ...   \n",
       "25791   2014     93.0       0.419       0.821        0.421     24.0     50.0   \n",
       "25792   2014     81.0       0.338       0.719        0.381     18.0     40.0   \n",
       "25793   2014     98.0       0.448       0.682          0.5     29.0     45.0   \n",
       "25794   2014     99.0        0.44       0.771        0.333     21.0     30.0   \n",
       "25795   2014     86.0       0.431       0.679        0.333     18.0     42.0   \n",
       "\n",
       "      PTS_away FG_PCT_away FT_PCT_away FG3_PCT_away AST_away REB_away  \\\n",
       "0        113.0       0.422       0.875        0.357     21.0     46.0   \n",
       "1         91.0       0.419       0.824        0.208     19.0     40.0   \n",
       "2        119.0       0.489         1.0        0.389     23.0     47.0   \n",
       "3        109.0       0.413       0.696        0.386     27.0     39.0   \n",
       "4        127.0       0.471        0.76        0.387     28.0     50.0   \n",
       "...        ...         ...         ...          ...      ...      ...   \n",
       "25791     87.0       0.366       0.643        0.375     17.0     43.0   \n",
       "25792     85.0       0.411       0.636        0.267     17.0     47.0   \n",
       "25793     95.0       0.387       0.659          0.5     19.0     43.0   \n",
       "25794     94.0       0.469       0.725        0.385     18.0     45.0   \n",
       "25795     98.0       0.462       0.706        0.438     19.0     42.0   \n",
       "\n",
       "      HOME_TEAM_WINS  \n",
       "0                  0  \n",
       "1                  1  \n",
       "2                  0  \n",
       "3                  1  \n",
       "4                  0  \n",
       "...              ...  \n",
       "25791              1  \n",
       "25792              0  \n",
       "25793              1  \n",
       "25794              1  \n",
       "25795              0  \n",
       "\n",
       "[25796 rows x 19 columns]"
      ]
     },
     "execution_count": 259,
     "metadata": {},
     "output_type": "execute_result"
    }
   ],
   "source": [
    "df_games = df_games.T.drop_duplicates().T\n",
    "df_games"
   ]
  },
  {
   "cell_type": "code",
   "execution_count": 213,
   "metadata": {},
   "outputs": [
    {
     "data": {
      "text/plain": [
       "19"
      ]
     },
     "execution_count": 213,
     "metadata": {},
     "output_type": "execute_result"
    }
   ],
   "source": [
    "len(df_games.columns)"
   ]
  },
  {
   "cell_type": "code",
   "execution_count": 260,
   "metadata": {},
   "outputs": [
    {
     "data": {
      "text/plain": [
       "Index(['OYUN_TARIHI', 'OYUN_ID', 'OYUN_DURUMU', 'EV_SAHIBI_TAKIM_ID',\n",
       "       'MISAFIR_TAKIM_ID', 'SEZON', 'EV_SAHIBI_TAKIMIN_PUANY', 'ES_SAHA_GOLY',\n",
       "       'ES_SERBEST_ATIS_YUZDESİ', 'ES_3LUK_YUZDESİ', 'ES_ASSİST', 'ES_RIBAUND',\n",
       "       'DEPLASMAN_TAKIM_PUAN', 'DT_SAHA_GOLY', 'DT_SERBEST_ATIŞ_SAYISI',\n",
       "       'DT_3LUK_YUZDESİ', 'DT_ASSİSST', 'DT_RIBAUND_Y',\n",
       "       'ES_TAKIMIN_KAZANMA_Y'],\n",
       "      dtype='object')"
      ]
     },
     "execution_count": 260,
     "metadata": {},
     "output_type": "execute_result"
    }
   ],
   "source": [
    "df_games.columns=[\"OYUN_TARIHI\",\"OYUN_ID\",\"OYUN_DURUMU\",\"EV_SAHIBI_TAKIM_ID\",\"MISAFIR_TAKIM_ID\",\"SEZON\",\"EV_SAHIBI_TAKIMIN_PUANY\",\"ES_SAHA_GOLY\",\"ES_SERBEST_ATIS_YUZDESİ\",'ES_3LUK_YUZDESİ', 'ES_ASSİST',\n",
    "       'ES_RIBAUND', 'DEPLASMAN_TAKIM_PUAN', 'DT_SAHA_GOLY', 'DT_SERBEST_ATIŞ_SAYISI', 'DT_3LUK_YUZDESİ', 'DT_ASSİSST',\n",
    "       'DT_RIBAUND_Y', 'ES_TAKIMIN_KAZANMA_Y']\n",
    "df_games.columns"
   ]
  },
  {
   "cell_type": "code",
   "execution_count": 216,
   "metadata": {},
   "outputs": [
    {
     "data": {
      "text/plain": [
       "25767"
      ]
     },
     "execution_count": 216,
     "metadata": {},
     "output_type": "execute_result"
    }
   ],
   "source": [
    "len(df_games.OYUN_ID.unique())"
   ]
  },
  {
   "cell_type": "code",
   "execution_count": 218,
   "metadata": {},
   "outputs": [
    {
     "data": {
      "text/plain": [
       "Index(['PLAYER_NAME', 'TEAM_ID', 'PLAYER_ID', 'SEASON'], dtype='object')"
      ]
     },
     "execution_count": 218,
     "metadata": {},
     "output_type": "execute_result"
    }
   ],
   "source": [
    "df_players.columns"
   ]
  },
  {
   "cell_type": "code",
   "execution_count": 261,
   "metadata": {},
   "outputs": [
    {
     "data": {
      "text/plain": [
       "Index(['OYUNCU_ADI', 'TAKIM_ID', 'OYUNCU_ID', 'SEZON'], dtype='object')"
      ]
     },
     "execution_count": 261,
     "metadata": {},
     "output_type": "execute_result"
    }
   ],
   "source": [
    "df_players.columns=[\"OYUNCU_ADI\",\"TAKIM_ID\",\"OYUNCU_ID\",\"SEZON\"]\n",
    "df_players.columns\n"
   ]
  },
  {
   "cell_type": "code",
   "execution_count": 220,
   "metadata": {},
   "outputs": [
    {
     "data": {
      "text/plain": [
       "Index(['TEAM_ID', 'LEAGUE_ID', 'SEASON_ID', 'STANDINGSDATE', 'CONFERENCE',\n",
       "       'TEAM', 'G', 'W', 'L', 'W_PCT', 'HOME_RECORD', 'ROAD_RECORD',\n",
       "       'RETURNTOPLAY'],\n",
       "      dtype='object')"
      ]
     },
     "execution_count": 220,
     "metadata": {},
     "output_type": "execute_result"
    }
   ],
   "source": [
    "df_ranking.columns"
   ]
  },
  {
   "cell_type": "code",
   "execution_count": 262,
   "metadata": {},
   "outputs": [
    {
     "data": {
      "text/plain": [
       "Index(['TAKIM_ID', 'LIG_ID', 'SEZON_ID', 'PUAN_DURUM_TARIH', 'KONFERANS',\n",
       "       'TAKIM', 'SEZONDA_OYNANAN_MAC_SAYISI', 'KAZANILAN_MAC_SAYISI',\n",
       "       'KAYBEDILEN_MAC_SAYISI', 'KAZANC', 'EV_SAHIBI_REKOR', 'YOL REKORU',\n",
       "       'OYUNA_DONUS'],\n",
       "      dtype='object')"
      ]
     },
     "execution_count": 262,
     "metadata": {},
     "output_type": "execute_result"
    }
   ],
   "source": [
    "df_ranking.columns=[\"TAKIM_ID\",\"LIG_ID\",\"SEZON_ID\",\"PUAN_DURUM_TARIH\",\"KONFERANS\",\"TAKIM\",\"SEZONDA_OYNANAN_MAC_SAYISI\",\"KAZANILAN_MAC_SAYISI\",\"KAYBEDILEN_MAC_SAYISI\",\"KAZANC\",'EV_SAHIBI_REKOR', 'YOL REKORU',\n",
    "       'OYUNA_DONUS']\n",
    "df_ranking.columns\n"
   ]
  },
  {
   "cell_type": "code",
   "execution_count": 263,
   "metadata": {},
   "outputs": [
    {
     "data": {
      "text/plain": [
       "Index(['LEAGUE_ID', 'TEAM_ID', 'MIN_YEAR', 'MAX_YEAR', 'ABBREVIATION',\n",
       "       'NICKNAME', 'YEARFOUNDED', 'CITY', 'ARENA', 'ARENACAPACITY', 'OWNER',\n",
       "       'GENERALMANAGER', 'HEADCOACH', 'DLEAGUEAFFILIATION'],\n",
       "      dtype='object')"
      ]
     },
     "execution_count": 263,
     "metadata": {},
     "output_type": "execute_result"
    }
   ],
   "source": [
    "df_teams.columns\n"
   ]
  },
  {
   "cell_type": "code",
   "execution_count": 264,
   "metadata": {},
   "outputs": [
    {
     "data": {
      "text/plain": [
       "Index(['LIG_ID', 'TAKIM_ID', 'MIN_SAMPIYONLUK_YILI', 'MAX_SAMPIYONLUK_YILI',\n",
       "       'TAKIM_KISALTMA', 'TAKMA_ISIM', 'KURULUS_TARIHI', 'TAKIM_SEHIR',\n",
       "       'ARENA', 'ARENA_KAPASITE', 'SAHIBI', 'GENEL_MUDUR', 'ANTRENOR',\n",
       "       'D_LIGI_ILISKISI'],\n",
       "      dtype='object')"
      ]
     },
     "execution_count": 264,
     "metadata": {},
     "output_type": "execute_result"
    }
   ],
   "source": [
    "df_teams.columns =[\"LIG_ID\",\"TAKIM_ID\",\"MIN_SAMPIYONLUK_YILI\",\"MAX_SAMPIYONLUK_YILI\",\"TAKIM_KISALTMA\", \"TAKMA_ISIM\", \"KURULUS_TARIHI\", \"TAKIM_SEHIR\",\"ARENA\",\"ARENA_KAPASITE\",'SAHIBI', 'GENEL_MUDUR',\n",
    "       'ANTRENOR','D_LIGI_ILISKISI']\n",
    "df_teams.columns\n"
   ]
  },
  {
   "cell_type": "code",
   "execution_count": 265,
   "metadata": {},
   "outputs": [
    {
     "data": {
      "text/html": [
       "<div>\n",
       "<style scoped>\n",
       "    .dataframe tbody tr th:only-of-type {\n",
       "        vertical-align: middle;\n",
       "    }\n",
       "\n",
       "    .dataframe tbody tr th {\n",
       "        vertical-align: top;\n",
       "    }\n",
       "\n",
       "    .dataframe thead th {\n",
       "        text-align: right;\n",
       "    }\n",
       "</style>\n",
       "<table border=\"1\" class=\"dataframe\">\n",
       "  <thead>\n",
       "    <tr style=\"text-align: right;\">\n",
       "      <th></th>\n",
       "      <th>OYUNCU_ADI</th>\n",
       "      <th>SEZON</th>\n",
       "    </tr>\n",
       "  </thead>\n",
       "  <tbody>\n",
       "    <tr>\n",
       "      <th>0</th>\n",
       "      <td>Royce O'Neale</td>\n",
       "      <td>2019</td>\n",
       "    </tr>\n",
       "    <tr>\n",
       "      <th>1</th>\n",
       "      <td>Bojan Bogdanovic</td>\n",
       "      <td>2019</td>\n",
       "    </tr>\n",
       "    <tr>\n",
       "      <th>2</th>\n",
       "      <td>Rudy Gobert</td>\n",
       "      <td>2019</td>\n",
       "    </tr>\n",
       "    <tr>\n",
       "      <th>3</th>\n",
       "      <td>Donovan Mitchell</td>\n",
       "      <td>2019</td>\n",
       "    </tr>\n",
       "    <tr>\n",
       "      <th>4</th>\n",
       "      <td>Mike Conley</td>\n",
       "      <td>2019</td>\n",
       "    </tr>\n",
       "    <tr>\n",
       "      <th>...</th>\n",
       "      <td>...</td>\n",
       "      <td>...</td>\n",
       "    </tr>\n",
       "    <tr>\n",
       "      <th>7223</th>\n",
       "      <td>Lanny Smith</td>\n",
       "      <td>2009</td>\n",
       "    </tr>\n",
       "    <tr>\n",
       "      <th>7224</th>\n",
       "      <td>Warren Carter</td>\n",
       "      <td>2009</td>\n",
       "    </tr>\n",
       "    <tr>\n",
       "      <th>7225</th>\n",
       "      <td>Bennet Davis</td>\n",
       "      <td>2009</td>\n",
       "    </tr>\n",
       "    <tr>\n",
       "      <th>7226</th>\n",
       "      <td>Brian Hamilton</td>\n",
       "      <td>2009</td>\n",
       "    </tr>\n",
       "    <tr>\n",
       "      <th>7227</th>\n",
       "      <td>Wesley Matthews</td>\n",
       "      <td>2009</td>\n",
       "    </tr>\n",
       "  </tbody>\n",
       "</table>\n",
       "<p>7228 rows × 2 columns</p>\n",
       "</div>"
      ],
      "text/plain": [
       "            OYUNCU_ADI  SEZON\n",
       "0        Royce O'Neale   2019\n",
       "1     Bojan Bogdanovic   2019\n",
       "2          Rudy Gobert   2019\n",
       "3     Donovan Mitchell   2019\n",
       "4          Mike Conley   2019\n",
       "...                ...    ...\n",
       "7223       Lanny Smith   2009\n",
       "7224     Warren Carter   2009\n",
       "7225      Bennet Davis   2009\n",
       "7226    Brian Hamilton   2009\n",
       "7227   Wesley Matthews   2009\n",
       "\n",
       "[7228 rows x 2 columns]"
      ]
     },
     "execution_count": 265,
     "metadata": {},
     "output_type": "execute_result"
    }
   ],
   "source": [
    "df_players2 = df_players[['OYUNCU_ADI', 'SEZON']]\n",
    "df_players2"
   ]
  },
  {
   "cell_type": "code",
   "execution_count": 266,
   "metadata": {},
   "outputs": [
    {
     "data": {
      "text/html": [
       "<div>\n",
       "<style scoped>\n",
       "    .dataframe tbody tr th:only-of-type {\n",
       "        vertical-align: middle;\n",
       "    }\n",
       "\n",
       "    .dataframe tbody tr th {\n",
       "        vertical-align: top;\n",
       "    }\n",
       "\n",
       "    .dataframe thead th {\n",
       "        text-align: right;\n",
       "    }\n",
       "</style>\n",
       "<table border=\"1\" class=\"dataframe\">\n",
       "  <thead>\n",
       "    <tr style=\"text-align: right;\">\n",
       "      <th></th>\n",
       "      <th>OYUNCU_ADI</th>\n",
       "      <th>SEZON</th>\n",
       "    </tr>\n",
       "  </thead>\n",
       "  <tbody>\n",
       "    <tr>\n",
       "      <th>626</th>\n",
       "      <td>Kawhi Leonard</td>\n",
       "      <td>2018</td>\n",
       "    </tr>\n",
       "    <tr>\n",
       "      <th>627</th>\n",
       "      <td>Pascal Siakam</td>\n",
       "      <td>2018</td>\n",
       "    </tr>\n",
       "    <tr>\n",
       "      <th>628</th>\n",
       "      <td>Marc Gasol</td>\n",
       "      <td>2018</td>\n",
       "    </tr>\n",
       "    <tr>\n",
       "      <th>629</th>\n",
       "      <td>Danny Green</td>\n",
       "      <td>2018</td>\n",
       "    </tr>\n",
       "    <tr>\n",
       "      <th>630</th>\n",
       "      <td>Kyle Lowry</td>\n",
       "      <td>2018</td>\n",
       "    </tr>\n",
       "    <tr>\n",
       "      <th>...</th>\n",
       "      <td>...</td>\n",
       "      <td>...</td>\n",
       "    </tr>\n",
       "    <tr>\n",
       "      <th>1369</th>\n",
       "      <td>Tyrius Walker</td>\n",
       "      <td>2018</td>\n",
       "    </tr>\n",
       "    <tr>\n",
       "      <th>1370</th>\n",
       "      <td>Marcus Lee</td>\n",
       "      <td>2018</td>\n",
       "    </tr>\n",
       "    <tr>\n",
       "      <th>1371</th>\n",
       "      <td>Trey Lewis</td>\n",
       "      <td>2018</td>\n",
       "    </tr>\n",
       "    <tr>\n",
       "      <th>1372</th>\n",
       "      <td>Emanuel Terry</td>\n",
       "      <td>2018</td>\n",
       "    </tr>\n",
       "    <tr>\n",
       "      <th>1373</th>\n",
       "      <td>Justin Bibbs</td>\n",
       "      <td>2018</td>\n",
       "    </tr>\n",
       "  </tbody>\n",
       "</table>\n",
       "<p>748 rows × 2 columns</p>\n",
       "</div>"
      ],
      "text/plain": [
       "         OYUNCU_ADI  SEZON\n",
       "626   Kawhi Leonard   2018\n",
       "627   Pascal Siakam   2018\n",
       "628      Marc Gasol   2018\n",
       "629     Danny Green   2018\n",
       "630      Kyle Lowry   2018\n",
       "...             ...    ...\n",
       "1369  Tyrius Walker   2018\n",
       "1370     Marcus Lee   2018\n",
       "1371     Trey Lewis   2018\n",
       "1372  Emanuel Terry   2018\n",
       "1373   Justin Bibbs   2018\n",
       "\n",
       "[748 rows x 2 columns]"
      ]
     },
     "execution_count": 266,
     "metadata": {},
     "output_type": "execute_result"
    }
   ],
   "source": [
    "#2018 sezonunda oynayan oyuncular\n",
    "list_pd=[\"OYUNCU_ADI\" ,\"SEZON\"]\n",
    "df_players2.columns=list_pd\n",
    "df_players2\n",
    "df_players2[(df_players2['SEZON'] == 2018)]"
   ]
  },
  {
   "cell_type": "code",
   "execution_count": 286,
   "metadata": {},
   "outputs": [
    {
     "data": {
      "text/plain": [
       "TAKIM\n",
       "Atlanta                      6738\n",
       "Boston                       6740\n",
       "Brooklyn                     3446\n",
       "Charlotte                    6364\n",
       "Chicago                      6739\n",
       "Cleveland                    6738\n",
       "Dallas                       6741\n",
       "Denver                       6739\n",
       "Detroit                      6738\n",
       "Golden State                 6740\n",
       "Houston                      6740\n",
       "Indiana                      6738\n",
       "L.A. Clippers                4384\n",
       "L.A. Lakers                  6738\n",
       "LA Clippers                  2354\n",
       "Memphis                      6740\n",
       "Miami                        6739\n",
       "Milwaukee                    6740\n",
       "Minnesota                    6740\n",
       "New Jersey                   3292\n",
       "New Orleans                  6060\n",
       "New Orleans/Oklahoma City     678\n",
       "New York                     6740\n",
       "Oklahoma City                4911\n",
       "Orlando                      6738\n",
       "Philadelphia                 6738\n",
       "Phoenix                      6738\n",
       "Portland                     6738\n",
       "Sacramento                   6738\n",
       "San Antonio                  6738\n",
       "Seattle                      1831\n",
       "Toronto                      6738\n",
       "Utah                         6738\n",
       "Washington                   6740\n",
       "dtype: int64"
      ]
     },
     "execution_count": 286,
     "metadata": {},
     "output_type": "execute_result"
    }
   ],
   "source": [
    "df_ranking.groupby(\"TAKIM\").size()"
   ]
  },
  {
   "cell_type": "code",
   "execution_count": 272,
   "metadata": {},
   "outputs": [
    {
     "data": {
      "text/plain": [
       "SEZON\n",
       "2009    597\n",
       "2010    623\n",
       "2011    582\n",
       "2012    637\n",
       "2013    653\n",
       "2014    697\n",
       "2015    668\n",
       "2016    675\n",
       "2017    722\n",
       "2018    748\n",
       "2019    626\n",
       "dtype: int64"
      ]
     },
     "execution_count": 272,
     "metadata": {},
     "output_type": "execute_result"
    }
   ],
   "source": [
    "#Sezonlarda oynanan maç sayısı\n",
    "oynanan_sezon= df_players.groupby(\"SEZON\").size()\n",
    "oynanan_sezon"
   ]
  },
  {
   "cell_type": "code",
   "execution_count": 273,
   "metadata": {},
   "outputs": [
    {
     "data": {
      "text/html": [
       "<div>\n",
       "<style scoped>\n",
       "    .dataframe tbody tr th:only-of-type {\n",
       "        vertical-align: middle;\n",
       "    }\n",
       "\n",
       "    .dataframe tbody tr th {\n",
       "        vertical-align: top;\n",
       "    }\n",
       "\n",
       "    .dataframe thead th {\n",
       "        text-align: right;\n",
       "    }\n",
       "</style>\n",
       "<table border=\"1\" class=\"dataframe\">\n",
       "  <thead>\n",
       "    <tr style=\"text-align: right;\">\n",
       "      <th></th>\n",
       "      <th>TAKIM</th>\n",
       "      <th>SEZON_ID</th>\n",
       "      <th>SEZONDA_OYNANAN_MAC_SAYISI</th>\n",
       "      <th>KAZANILAN_MAC_SAYISI</th>\n",
       "      <th>KAYBEDILEN_MAC_SAYISI</th>\n",
       "    </tr>\n",
       "  </thead>\n",
       "  <tbody>\n",
       "    <tr>\n",
       "      <th>0</th>\n",
       "      <td>Phoenix</td>\n",
       "      <td>22021</td>\n",
       "      <td>67</td>\n",
       "      <td>53</td>\n",
       "      <td>14</td>\n",
       "    </tr>\n",
       "    <tr>\n",
       "      <th>1</th>\n",
       "      <td>Golden State</td>\n",
       "      <td>22021</td>\n",
       "      <td>68</td>\n",
       "      <td>46</td>\n",
       "      <td>22</td>\n",
       "    </tr>\n",
       "    <tr>\n",
       "      <th>2</th>\n",
       "      <td>Memphis</td>\n",
       "      <td>22021</td>\n",
       "      <td>68</td>\n",
       "      <td>46</td>\n",
       "      <td>22</td>\n",
       "    </tr>\n",
       "    <tr>\n",
       "      <th>3</th>\n",
       "      <td>Utah</td>\n",
       "      <td>22021</td>\n",
       "      <td>67</td>\n",
       "      <td>42</td>\n",
       "      <td>25</td>\n",
       "    </tr>\n",
       "    <tr>\n",
       "      <th>4</th>\n",
       "      <td>Dallas</td>\n",
       "      <td>22021</td>\n",
       "      <td>67</td>\n",
       "      <td>41</td>\n",
       "      <td>26</td>\n",
       "    </tr>\n",
       "    <tr>\n",
       "      <th>...</th>\n",
       "      <td>...</td>\n",
       "      <td>...</td>\n",
       "      <td>...</td>\n",
       "      <td>...</td>\n",
       "      <td>...</td>\n",
       "    </tr>\n",
       "    <tr>\n",
       "      <th>201787</th>\n",
       "      <td>Detroit</td>\n",
       "      <td>22013</td>\n",
       "      <td>82</td>\n",
       "      <td>29</td>\n",
       "      <td>53</td>\n",
       "    </tr>\n",
       "    <tr>\n",
       "      <th>201788</th>\n",
       "      <td>Boston</td>\n",
       "      <td>22013</td>\n",
       "      <td>82</td>\n",
       "      <td>25</td>\n",
       "      <td>57</td>\n",
       "    </tr>\n",
       "    <tr>\n",
       "      <th>201789</th>\n",
       "      <td>Orlando</td>\n",
       "      <td>22013</td>\n",
       "      <td>82</td>\n",
       "      <td>23</td>\n",
       "      <td>59</td>\n",
       "    </tr>\n",
       "    <tr>\n",
       "      <th>201790</th>\n",
       "      <td>Philadelphia</td>\n",
       "      <td>22013</td>\n",
       "      <td>82</td>\n",
       "      <td>19</td>\n",
       "      <td>63</td>\n",
       "    </tr>\n",
       "    <tr>\n",
       "      <th>201791</th>\n",
       "      <td>Milwaukee</td>\n",
       "      <td>22013</td>\n",
       "      <td>82</td>\n",
       "      <td>15</td>\n",
       "      <td>67</td>\n",
       "    </tr>\n",
       "  </tbody>\n",
       "</table>\n",
       "<p>201792 rows × 5 columns</p>\n",
       "</div>"
      ],
      "text/plain": [
       "               TAKIM  SEZON_ID  SEZONDA_OYNANAN_MAC_SAYISI  \\\n",
       "0            Phoenix     22021                          67   \n",
       "1       Golden State     22021                          68   \n",
       "2            Memphis     22021                          68   \n",
       "3               Utah     22021                          67   \n",
       "4             Dallas     22021                          67   \n",
       "...              ...       ...                         ...   \n",
       "201787       Detroit     22013                          82   \n",
       "201788        Boston     22013                          82   \n",
       "201789       Orlando     22013                          82   \n",
       "201790  Philadelphia     22013                          82   \n",
       "201791     Milwaukee     22013                          82   \n",
       "\n",
       "        KAZANILAN_MAC_SAYISI  KAYBEDILEN_MAC_SAYISI  \n",
       "0                         53                     14  \n",
       "1                         46                     22  \n",
       "2                         46                     22  \n",
       "3                         42                     25  \n",
       "4                         41                     26  \n",
       "...                      ...                    ...  \n",
       "201787                    29                     53  \n",
       "201788                    25                     57  \n",
       "201789                    23                     59  \n",
       "201790                    19                     63  \n",
       "201791                    15                     67  \n",
       "\n",
       "[201792 rows x 5 columns]"
      ]
     },
     "execution_count": 273,
     "metadata": {},
     "output_type": "execute_result"
    }
   ],
   "source": [
    "sezon_ozeti = df_ranking[['TAKIM', 'SEZON_ID', 'SEZONDA_OYNANAN_MAC_SAYISI', 'KAZANILAN_MAC_SAYISI', 'KAYBEDILEN_MAC_SAYISI']]\n",
    "sezon_ozeti"
   ]
  },
  {
   "cell_type": "code",
   "execution_count": 275,
   "metadata": {},
   "outputs": [
    {
     "name": "stdout",
     "output_type": "stream",
     "text": [
      "       ARENA_KAPASITE ES_TAKIMIN_KAZANMA_Y\n",
      "0             18729.0                    1\n",
      "1             18729.0                    1\n",
      "2             18729.0                    1\n",
      "3             18729.0                    1\n",
      "4             18729.0                    0\n",
      "...               ...                  ...\n",
      "25791         19596.0                    1\n",
      "25792         19596.0                    1\n",
      "25793         19596.0                    1\n",
      "25794         19596.0                    1\n",
      "25795         19596.0                    1\n",
      "\n",
      "[25796 rows x 2 columns]\n"
     ]
    }
   ],
   "source": [
    "ef_team_arena = df_teams[['ARENA_KAPASITE', 'TAKIM_ID']]\n",
    "bf_team_win = df_games[['EV_SAHIBI_TAKIM_ID', 'ES_TAKIMIN_KAZANMA_Y']] \n",
    "print(pd.merge(ef_team_arena, bf_team_win, left_on='TAKIM_ID', right_on='EV_SAHIBI_TAKIM_ID')[['ARENA_KAPASITE', 'ES_TAKIMIN_KAZANMA_Y']])"
   ]
  },
  {
   "cell_type": "code",
   "execution_count": 277,
   "metadata": {},
   "outputs": [
    {
     "data": {
      "text/html": [
       "<div>\n",
       "<style scoped>\n",
       "    .dataframe tbody tr th:only-of-type {\n",
       "        vertical-align: middle;\n",
       "    }\n",
       "\n",
       "    .dataframe tbody tr th {\n",
       "        vertical-align: top;\n",
       "    }\n",
       "\n",
       "    .dataframe thead th {\n",
       "        text-align: right;\n",
       "    }\n",
       "</style>\n",
       "<table border=\"1\" class=\"dataframe\">\n",
       "  <thead>\n",
       "    <tr style=\"text-align: right;\">\n",
       "      <th></th>\n",
       "      <th>Arena_kap_aralık</th>\n",
       "      <th>Kazanma_oranı</th>\n",
       "    </tr>\n",
       "  </thead>\n",
       "  <tbody>\n",
       "    <tr>\n",
       "      <th>0</th>\n",
       "      <td>17.0k-18.0k</td>\n",
       "      <td>0.535928</td>\n",
       "    </tr>\n",
       "    <tr>\n",
       "      <th>1</th>\n",
       "      <td>18.0k-19.0k</td>\n",
       "      <td>0.634641</td>\n",
       "    </tr>\n",
       "    <tr>\n",
       "      <th>2</th>\n",
       "      <td>19.0k-20.0k</td>\n",
       "      <td>0.592672</td>\n",
       "    </tr>\n",
       "    <tr>\n",
       "      <th>3</th>\n",
       "      <td>20.0k-21.0k</td>\n",
       "      <td>0.590988</td>\n",
       "    </tr>\n",
       "    <tr>\n",
       "      <th>4</th>\n",
       "      <td>21.0k-22.0k</td>\n",
       "      <td>0.578947</td>\n",
       "    </tr>\n",
       "  </tbody>\n",
       "</table>\n",
       "</div>"
      ],
      "text/plain": [
       "  Arena_kap_aralık  Kazanma_oranı\n",
       "0      17.0k-18.0k       0.535928\n",
       "1      18.0k-19.0k       0.634641\n",
       "2      19.0k-20.0k       0.592672\n",
       "3      20.0k-21.0k       0.590988\n",
       "4      21.0k-22.0k       0.578947"
      ]
     },
     "execution_count": 277,
     "metadata": {},
     "output_type": "execute_result"
    }
   ],
   "source": [
    "#Arena kapasitesinin kazanma oranına etkisi\n",
    "data= { 'Arena_kap_aralık': [], 'Kazanma_oranı': []} \n",
    "filtre2 = pd.merge(ef_team_arena, bf_team_win, left_on='TAKIM_ID', right_on='EV_SAHIBI_TAKIM_ID')[['ARENA_KAPASITE', 'ES_TAKIMIN_KAZANMA_Y']]\n",
    "for i in range(17000, 22000,1000):    \n",
    "    kazan_mac = len(filtre2[(filtre2['ARENA_KAPASITE'] <= i+1000) & (filtre2['ARENA_KAPASITE'] > i) & (filtre2['ES_TAKIMIN_KAZANMA_Y'] == 1)].index)\n",
    "    toplam_mac = len(filtre2[(filtre2['ARENA_KAPASITE'] <= i+1000) & (filtre2['ARENA_KAPASITE'] > i)].index) \n",
    "    formatted = str.format(\"{}k-{}k\",i/1000, i/1000 + 1)\n",
    "    data['Arena_kap_aralık'].append(formatted)\n",
    "    data['Kazanma_oranı'].append(kazan_mac/toplam_mac)\n",
    "arena_kazanma_df = pd.DataFrame(data)\n",
    "arena_kazanma_df\n"
   ]
  },
  {
   "cell_type": "code",
   "execution_count": 278,
   "metadata": {},
   "outputs": [
    {
     "data": {
      "text/plain": [
       "ES_TAKIMIN_KAZANMA_Y\n",
       "0    10641\n",
       "1    15155\n",
       "dtype: int64"
      ]
     },
     "execution_count": 278,
     "metadata": {},
     "output_type": "execute_result"
    }
   ],
   "source": [
    "#Ev sahibi takımın kazanıp kaybetme sayıları\n",
    "df_games.groupby(\"ES_TAKIMIN_KAZANMA_Y\").size()"
   ]
  },
  {
   "cell_type": "code",
   "execution_count": 281,
   "metadata": {},
   "outputs": [
    {
     "data": {
      "text/html": [
       "<div>\n",
       "<style scoped>\n",
       "    .dataframe tbody tr th:only-of-type {\n",
       "        vertical-align: middle;\n",
       "    }\n",
       "\n",
       "    .dataframe tbody tr th {\n",
       "        vertical-align: top;\n",
       "    }\n",
       "\n",
       "    .dataframe thead th {\n",
       "        text-align: right;\n",
       "    }\n",
       "</style>\n",
       "<table border=\"1\" class=\"dataframe\">\n",
       "  <thead>\n",
       "    <tr style=\"text-align: right;\">\n",
       "      <th></th>\n",
       "      <th>OYUNCU_ID</th>\n",
       "      <th>OYUNCU_ISIM</th>\n",
       "      <th>KISISEL_FAUL</th>\n",
       "    </tr>\n",
       "  </thead>\n",
       "  <tbody>\n",
       "    <tr>\n",
       "      <th>4</th>\n",
       "      <td>1626156</td>\n",
       "      <td>D'Angelo Russell</td>\n",
       "      <td>5.0</td>\n",
       "    </tr>\n",
       "    <tr>\n",
       "      <th>29</th>\n",
       "      <td>1629636</td>\n",
       "      <td>Darius Garland</td>\n",
       "      <td>6.0</td>\n",
       "    </tr>\n",
       "    <tr>\n",
       "      <th>198</th>\n",
       "      <td>202704</td>\n",
       "      <td>Reggie Jackson</td>\n",
       "      <td>5.0</td>\n",
       "    </tr>\n",
       "    <tr>\n",
       "      <th>248</th>\n",
       "      <td>1629636</td>\n",
       "      <td>Darius Garland</td>\n",
       "      <td>7.0</td>\n",
       "    </tr>\n",
       "    <tr>\n",
       "      <th>274</th>\n",
       "      <td>1629029</td>\n",
       "      <td>Luka Doncic</td>\n",
       "      <td>5.0</td>\n",
       "    </tr>\n",
       "    <tr>\n",
       "      <th>...</th>\n",
       "      <td>...</td>\n",
       "      <td>...</td>\n",
       "      <td>...</td>\n",
       "    </tr>\n",
       "    <tr>\n",
       "      <th>645868</th>\n",
       "      <td>202227</td>\n",
       "      <td>Terrel Harris</td>\n",
       "      <td>5.0</td>\n",
       "    </tr>\n",
       "    <tr>\n",
       "      <th>645875</th>\n",
       "      <td>202349</td>\n",
       "      <td>Greivis Vasquez</td>\n",
       "      <td>5.0</td>\n",
       "    </tr>\n",
       "    <tr>\n",
       "      <th>645933</th>\n",
       "      <td>202339</td>\n",
       "      <td>Eric Bledsoe</td>\n",
       "      <td>5.0</td>\n",
       "    </tr>\n",
       "    <tr>\n",
       "      <th>645937</th>\n",
       "      <td>2440</td>\n",
       "      <td>Matt Barnes</td>\n",
       "      <td>5.0</td>\n",
       "    </tr>\n",
       "    <tr>\n",
       "      <th>645952</th>\n",
       "      <td>201951</td>\n",
       "      <td>Ty Lawson</td>\n",
       "      <td>6.0</td>\n",
       "    </tr>\n",
       "  </tbody>\n",
       "</table>\n",
       "<p>17987 rows × 3 columns</p>\n",
       "</div>"
      ],
      "text/plain": [
       "        OYUNCU_ID       OYUNCU_ISIM  KISISEL_FAUL\n",
       "4         1626156  D'Angelo Russell           5.0\n",
       "29        1629636    Darius Garland           6.0\n",
       "198        202704    Reggie Jackson           5.0\n",
       "248       1629636    Darius Garland           7.0\n",
       "274       1629029       Luka Doncic           5.0\n",
       "...           ...               ...           ...\n",
       "645868     202227     Terrel Harris           5.0\n",
       "645875     202349   Greivis Vasquez           5.0\n",
       "645933     202339      Eric Bledsoe           5.0\n",
       "645937       2440       Matt Barnes           5.0\n",
       "645952     201951         Ty Lawson           6.0\n",
       "\n",
       "[17987 rows x 3 columns]"
      ]
     },
     "execution_count": 281,
     "metadata": {},
     "output_type": "execute_result"
    }
   ],
   "source": [
    "#Kişisel faul oranı 5 den büyük olan oyuncular listesi\n",
    "filtered_af = df_game_details[df_game_details['KISISEL_FAUL'] >= 5]\n",
    "filtered_af\n",
    "faul_yapan_oyuncular = filtered_af[['OYUNCU_ID', 'OYUNCU_ISIM', 'KISISEL_FAUL']]\n",
    "faul_yapan_oyuncular"
   ]
  }
 ],
 "metadata": {
  "kernelspec": {
   "display_name": "Python 3.9.12 ('base')",
   "language": "python",
   "name": "python3"
  },
  "language_info": {
   "codemirror_mode": {
    "name": "ipython",
    "version": 3
   },
   "file_extension": ".py",
   "mimetype": "text/x-python",
   "name": "python",
   "nbconvert_exporter": "python",
   "pygments_lexer": "ipython3",
   "version": "3.9.12"
  },
  "orig_nbformat": 4,
  "vscode": {
   "interpreter": {
    "hash": "2423b1605a689b6c7706951ffb91ab814ce176e620634d226025467729a3779a"
   }
  }
 },
 "nbformat": 4,
 "nbformat_minor": 2
}
